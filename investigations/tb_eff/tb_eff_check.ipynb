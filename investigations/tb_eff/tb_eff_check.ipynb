{
 "cells": [
  {
   "cell_type": "code",
   "execution_count": 1,
   "metadata": {},
   "outputs": [],
   "source": [
    "import numpy as np\n",
    "import awkward as ak\n",
    "import uproot\n",
    "import matplotlib.pyplot as plt\n",
    "import mplhep as hep\n",
    "\n",
    "import sys\n",
    "sys.path.append('/home/users/hswanson13/tbanalysis/') #stupid pytho\n",
    "import do_analysis as ra\n",
    "from os import path\n",
    "from datetime import datetime\n",
    "import utils.analysis as au\n",
    "from os import path\n",
    "import uproot\n",
    "import yahist\n",
    "\n",
    "import utils.plotting as pu"
   ]
  },
  {
   "cell_type": "code",
   "execution_count": 4,
   "metadata": {},
   "outputs": [
    {
     "name": "stdout",
     "output_type": "stream",
     "text": [
      "0.38034523630951855\n"
     ]
    }
   ],
   "source": [
    "telescope_data_path = \"/ceph/cms/store/user/azecchin/DESY_ETROC_telescope_merged/ETROC_Telescope_data/\"\n",
    "tel_runs = \"Run_5050_5200\" \n",
    "n_merged_files = 7\n",
    "tel_run_paths = [path.join(telescope_data_path, tel_runs+f\"_{i}.root\") for i in range(n_merged_files)] #+':mergedTree'\n",
    "\n",
    "step_size = 50000\n",
    "chi2_cut_high = 100\n",
    "\n",
    "start_time = datetime.now()\n",
    "\n",
    "tot_events_cntr = 0\n",
    "cut_events_cntr = 0\n",
    "for events in uproot.iterate(tel_run_paths, step_size=step_size):\n",
    "    tot_events_cntr += len(events)\n",
    "    #clock_sel = ((events['Clock'] > -1) & (events['Clock'] < 5))\n",
    "    chi2_sel = events.chi2 < chi2_cut_high\n",
    "    bad_traker = (events.x > -500) & (events.y > -500)\n",
    "    trak_sel = bad_traker & chi2_sel\n",
    "    cut_events_cntr += len(events[trak_sel])\n",
    "\n",
    "print(cut_events_cntr/tot_events_cntr)"
   ]
  }
 ],
 "metadata": {
  "kernelspec": {
   "display_name": "tbanalysis",
   "language": "python",
   "name": "python3"
  },
  "language_info": {
   "codemirror_mode": {
    "name": "ipython",
    "version": 3
   },
   "file_extension": ".py",
   "mimetype": "text/x-python",
   "name": "python",
   "nbconvert_exporter": "python",
   "pygments_lexer": "ipython3",
   "version": "3.12.3"
  }
 },
 "nbformat": 4,
 "nbformat_minor": 2
}
