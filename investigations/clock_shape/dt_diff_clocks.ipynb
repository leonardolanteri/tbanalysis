{
 "cells": [
  {
   "cell_type": "code",
   "execution_count": 1,
   "metadata": {},
   "outputs": [],
   "source": [
    "import yahist\n",
    "import awkward as ak\n",
    "import matplotlib.pyplot as plt\n",
    "import numpy as np\n",
    "from scipy.optimize import curve_fit\n",
    "def gaus(x, *p0):\n",
    "    N, mu, sigma = p0\n",
    "    return N*np.exp(-(x-mu)**2/(2.0*sigma**2))\n"
   ]
  },
  {
   "cell_type": "markdown",
   "metadata": {},
   "source": [
    "### Gameplan\n",
    "\n",
    "1. Get distrobutions of rising and falling clock edges as well as arams clock\n",
    "    - also get toa, trigger distrobution for completeness\n",
    "2. Show dts for all 3 scenarios\n",
    "3. Look at jitter for all 3 scenarios"
   ]
  },
  {
   "cell_type": "code",
   "execution_count": 2,
   "metadata": {},
   "outputs": [
    {
     "ename": "FileNotFoundError",
     "evalue": "[Errno 2] No such file or directory: '/home/users/hswanson13/tbanalysis/output_analysis_data/nearest_0_edge/start_5050_stop_5199_bias_260_offset_20.0_energy_5.0_power_i1_file_from_DESY_module_36_LP2_20_cubicLM_unbinned/dt_first_edge_data.pkl'",
     "output_type": "error",
     "traceback": [
      "\u001b[0;31m---------------------------------------------------------------------------\u001b[0m",
      "\u001b[0;31mFileNotFoundError\u001b[0m                         Traceback (most recent call last)",
      "Cell \u001b[0;32mIn[2], line 37\u001b[0m\n\u001b[1;32m     28\u001b[0m         coeff \u001b[38;5;241m=\u001b[39m p0\n\u001b[1;32m     29\u001b[0m     ax\u001b[38;5;241m.\u001b[39mplot(\n\u001b[1;32m     30\u001b[0m         bin_centers,\n\u001b[1;32m     31\u001b[0m         gaus(bin_centers, \u001b[38;5;241m*\u001b[39mcoeff),\n\u001b[0;32m   (...)\u001b[0m\n\u001b[1;32m     34\u001b[0m         linewidth\u001b[38;5;241m=\u001b[39mlw\n\u001b[1;32m     35\u001b[0m     )\n\u001b[0;32m---> 37\u001b[0m dt_frst_edg \u001b[38;5;241m=\u001b[39m get_data(\u001b[38;5;124m\"\u001b[39m\u001b[38;5;124m/home/users/hswanson13/tbanalysis/output_analysis_data/nearest_0_edge/start_5050_stop_5199_bias_260_offset_20.0_energy_5.0_power_i1_file_from_DESY_module_36_LP2_20_cubicLM_unbinned/dt_first_edge_data.pkl\u001b[39m\u001b[38;5;124m\"\u001b[39m)\n\u001b[1;32m     38\u001b[0m dt_scnd_edg \u001b[38;5;241m=\u001b[39m get_data(\u001b[38;5;124m\"\u001b[39m\u001b[38;5;124m/home/users/hswanson13/tbanalysis/output_analysis_data/nearest_0_edge/start_5050_stop_5199_bias_260_offset_20.0_energy_5.0_power_i1_file_from_DESY_module_36_LP2_20_cubicLM_unbinned/dt_second_edge_data.pkl\u001b[39m\u001b[38;5;124m\"\u001b[39m)\n\u001b[1;32m     39\u001b[0m dt_desy \u001b[38;5;241m=\u001b[39m get_data(\u001b[38;5;124m\"\u001b[39m\u001b[38;5;124m/home/users/hswanson13/tbanalysis/output_analysis_data/nearest_0_edge/start_5050_stop_5199_bias_260_offset_20.0_energy_5.0_power_i1_file_from_DESY_module_36_LP2_20_cubicLM_unbinned/dt_tot_raw_data.pkl\u001b[39m\u001b[38;5;124m\"\u001b[39m)\n",
      "Cell \u001b[0;32mIn[2], line 12\u001b[0m, in \u001b[0;36mget_data\u001b[0;34m(data_path)\u001b[0m\n\u001b[1;32m     10\u001b[0m _, file_ext \u001b[38;5;241m=\u001b[39m os\u001b[38;5;241m.\u001b[39mpath\u001b[38;5;241m.\u001b[39msplitext(data_path)\n\u001b[1;32m     11\u001b[0m \u001b[38;5;66;03m# data_path = join(data_dir, data_file)\u001b[39;00m\n\u001b[0;32m---> 12\u001b[0m \u001b[38;5;28;01mwith\u001b[39;00m \u001b[38;5;28mopen\u001b[39m(data_path, \u001b[38;5;124m\"\u001b[39m\u001b[38;5;124mrb\u001b[39m\u001b[38;5;124m\"\u001b[39m) \u001b[38;5;28;01mas\u001b[39;00m f:\n\u001b[1;32m     13\u001b[0m     \u001b[38;5;28;01mif\u001b[39;00m file_ext \u001b[38;5;241m==\u001b[39m \u001b[38;5;124m'\u001b[39m\u001b[38;5;124m.json\u001b[39m\u001b[38;5;124m'\u001b[39m:\n\u001b[1;32m     14\u001b[0m         data \u001b[38;5;241m=\u001b[39m ak\u001b[38;5;241m.\u001b[39mArray(json\u001b[38;5;241m.\u001b[39mload(f))\n",
      "File \u001b[0;32m~/miniconda3/envs/tbanalysis/lib/python3.12/site-packages/IPython/core/interactiveshell.py:324\u001b[0m, in \u001b[0;36m_modified_open\u001b[0;34m(file, *args, **kwargs)\u001b[0m\n\u001b[1;32m    317\u001b[0m \u001b[38;5;28;01mif\u001b[39;00m file \u001b[38;5;129;01min\u001b[39;00m {\u001b[38;5;241m0\u001b[39m, \u001b[38;5;241m1\u001b[39m, \u001b[38;5;241m2\u001b[39m}:\n\u001b[1;32m    318\u001b[0m     \u001b[38;5;28;01mraise\u001b[39;00m \u001b[38;5;167;01mValueError\u001b[39;00m(\n\u001b[1;32m    319\u001b[0m         \u001b[38;5;124mf\u001b[39m\u001b[38;5;124m\"\u001b[39m\u001b[38;5;124mIPython won\u001b[39m\u001b[38;5;124m'\u001b[39m\u001b[38;5;124mt let you open fd=\u001b[39m\u001b[38;5;132;01m{\u001b[39;00mfile\u001b[38;5;132;01m}\u001b[39;00m\u001b[38;5;124m by default \u001b[39m\u001b[38;5;124m\"\u001b[39m\n\u001b[1;32m    320\u001b[0m         \u001b[38;5;124m\"\u001b[39m\u001b[38;5;124mas it is likely to crash IPython. If you know what you are doing, \u001b[39m\u001b[38;5;124m\"\u001b[39m\n\u001b[1;32m    321\u001b[0m         \u001b[38;5;124m\"\u001b[39m\u001b[38;5;124myou can use builtins\u001b[39m\u001b[38;5;124m'\u001b[39m\u001b[38;5;124m open.\u001b[39m\u001b[38;5;124m\"\u001b[39m\n\u001b[1;32m    322\u001b[0m     )\n\u001b[0;32m--> 324\u001b[0m \u001b[38;5;28;01mreturn\u001b[39;00m io_open(file, \u001b[38;5;241m*\u001b[39margs, \u001b[38;5;241m*\u001b[39m\u001b[38;5;241m*\u001b[39mkwargs)\n",
      "\u001b[0;31mFileNotFoundError\u001b[0m: [Errno 2] No such file or directory: '/home/users/hswanson13/tbanalysis/output_analysis_data/nearest_0_edge/start_5050_stop_5199_bias_260_offset_20.0_energy_5.0_power_i1_file_from_DESY_module_36_LP2_20_cubicLM_unbinned/dt_first_edge_data.pkl'"
     ]
    }
   ],
   "source": [
    "# old_clock = \"/home/users/hswanson13/tbanalysis/output_analysis_data/original_clock/start_5050_stop_5199_bias_260_offset_20.0_energy_5.0_power_i1_file_from_DESY_module_36_LP2_20_cubicLM_unbinned/fullCollection.parquet\"\n",
    "# new_clock_frst_rising_edg = \"/home/users/hswanson13/tbanalysis/output_analysis_data/custom_my_clock/start_5050_stop_5199_bias_260_offset_20.0_energy_5.0_power_i1_file_from_DESY_module_36_LP2_20_cubicLM_unbinned/fullCollection.parquet\"\n",
    "# new_clock_second_rising_edg = \"/home/users/hswanson13/tbanalysis/output_analysis_data/second_rising/start_5050_stop_5199_bias_260_offset_20.0_energy_5.0_power_i1_file_from_DESY_module_36_LP2_20_cubicLM_unbinned/fullCollection.parquet\"\n",
    "import sys\n",
    "import json\n",
    "import pickle as pk\n",
    "import os\n",
    "\n",
    "def get_data(data_path):\n",
    "    _, file_ext = os.path.splitext(data_path)\n",
    "    # data_path = join(data_dir, data_file)\n",
    "    with open(data_path, \"rb\") as f:\n",
    "        if file_ext == '.json':\n",
    "            data = ak.Array(json.load(f))\n",
    "        elif file_ext == '.pkl':\n",
    "            data = pk.load(f)\n",
    "        else:\n",
    "            raise NotImplementedError('This file extension is not implemented yet')\n",
    "    return data\n",
    "\n",
    "\n",
    "\n",
    "def plot_gauss_fit(ax, hist_counts, bin_centers, p0, color='red', lw=2):\n",
    "    # Do a simple gaussian fit\n",
    "    try:\n",
    "        coeff, var_martix = curve_fit(gaus, bin_centers, hist_counts, p0=p0)\n",
    "    except RuntimeError:\n",
    "        coeff = p0\n",
    "    ax.plot(\n",
    "        bin_centers,\n",
    "        gaus(bin_centers, *coeff),\n",
    "        color=color,\n",
    "        label='Gaussian Fit\\n mean: {:.2f} \\n sigma: {:.3f}'.format(coeff[1],abs(coeff[2])),\n",
    "        linewidth=lw\n",
    "    )\n",
    "\n",
    "dt_frst_edg = get_data(\"/home/users/hswanson13/tbanalysis/output_analysis_data/nearest_0_edge/start_5050_stop_5199_bias_260_offset_20.0_energy_5.0_power_i1_file_from_DESY_module_36_LP2_20_cubicLM_unbinned/dt_first_edge_data.pkl\")\n",
    "dt_scnd_edg = get_data(\"/home/users/hswanson13/tbanalysis/output_analysis_data/nearest_0_edge/start_5050_stop_5199_bias_260_offset_20.0_energy_5.0_power_i1_file_from_DESY_module_36_LP2_20_cubicLM_unbinned/dt_second_edge_data.pkl\")\n",
    "dt_desy = get_data(\"/home/users/hswanson13/tbanalysis/output_analysis_data/nearest_0_edge/start_5050_stop_5199_bias_260_offset_20.0_energy_5.0_power_i1_file_from_DESY_module_36_LP2_20_cubicLM_unbinned/dt_tot_raw_data.pkl\")\n",
    "dt_nearest_zero = get_data(\"/home/users/hswanson13/tbanalysis/output_analysis_data/nearest_0_edge/start_5050_stop_5199_bias_260_offset_20.0_energy_5.0_power_i1_file_from_DESY_module_36_LP2_20_cubicLM_unbinned/dt_nearest_zero_data.pkl\")\n",
    "\n",
    "row, col = 9, 8\n",
    "fig = plt.figure(constrained_layout=True,  figsize=(14, 6))\n",
    "ax = plt.subplot(1,1,1)\n",
    "\n",
    "frst_vals = np.array(dt_frst_edg[row][col][\"dt_first\"])\n",
    "scnd_vals = np.array(dt_scnd_edg[row][col][\"dt_second\"])\n",
    "desy_vals = np.array(dt_desy[row][col][\"dt\"])\n",
    "near_zero_vals = np.array(dt_nearest_zero[row][col][\"dt_near_0\"])\n",
    "\n",
    "dt_frst_hist = yahist.Hist1D(frst_vals)\n",
    "dt_scnd_hist = yahist.Hist1D(scnd_vals)\n",
    "dt_desy_hist = yahist.Hist1D(desy_vals)\n",
    "dt_zero_hist = yahist.Hist1D(near_zero_vals)\n",
    "\n",
    "dt_frst_hist.plot(ax, color='blue', label=\"First Edge\")\n",
    "dt_scnd_hist.plot(ax, color='red', label='Second Edge')\n",
    "dt_desy_hist.plot(ax, color='orange', label=\"Original DESY\")\n",
    "dt_zero_hist.plot(ax, color='black', label=\"Nearest 0\")\n",
    "    \n",
    "plot_gauss_fit(ax, dt_desy_hist.counts, dt_desy_hist.bin_centers, [np.max(dt_desy_hist.counts), np.mean(dt_desy_hist.bin_centers), 0.1], lw=4)\n",
    "plot_gauss_fit(ax, dt_zero_hist.counts, dt_zero_hist.bin_centers, [np.max(dt_zero_hist.counts), np.mean(dt_zero_hist.bin_centers), 0.1], color='blue')\n",
    "\n",
    "ax.legend(loc=1, prop={'size': 18}, frameon=True,fancybox=True)\n",
    "\n",
    "ax.set_ylabel(\"counts\")\n",
    "ax.set_xlabel(\"t (ns)\")\n",
    "ax.set_title(\"dt From Clocks Timestamp\")\n",
    "\n",
    "# df = ak.from_parquet(new_clock_second_rising_edg)\n",
    "\n",
    "# print(df)\n",
    "\n",
    "# dt_hist = yahist.Hist1D(ak.flatten(df), bins=np.linspace(-25,25,650))\n",
    "\n",
    "# fig, ax = plt.subplots()\n",
    "# ax.set_yscale('log')\n",
    "# ax.set_xlabel(\"time (ns)\")\n",
    "# ax.set_title(\"dt DESY (First Rising Edge)\")\n",
    "# dt_hist.plot(ax)"
   ]
  },
  {
   "cell_type": "code",
   "execution_count": null,
   "metadata": {},
   "outputs": [],
   "source": []
  }
 ],
 "metadata": {
  "kernelspec": {
   "display_name": "tbanalysis",
   "language": "python",
   "name": "python3"
  },
  "language_info": {
   "codemirror_mode": {
    "name": "ipython",
    "version": 3
   },
   "file_extension": ".py",
   "mimetype": "text/x-python",
   "name": "python",
   "nbconvert_exporter": "python",
   "pygments_lexer": "ipython3",
   "version": "3.12.3"
  }
 },
 "nbformat": 4,
 "nbformat_minor": 2
}
