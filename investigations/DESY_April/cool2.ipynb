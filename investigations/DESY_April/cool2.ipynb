{
 "cells": [
  {
   "cell_type": "code",
   "execution_count": 4,
   "metadata": {},
   "outputs": [],
   "source": [
    "import uproot\n",
    "import awkward as ak\n",
    "import hist\n",
    "from hist import Hist\n",
    "import matplotlib.pyplot as plt\n",
    "import mplhep as hep\n",
    "import sys\n",
    "sys.path.append('/home/etl/Test_Stand/tbanalysis') #stupid python\n",
    "from utils import plotting as pu\n",
    "import numpy as np\n",
    "from importlib import reload"
   ]
  },
  {
   "cell_type": "code",
   "execution_count": 1,
   "metadata": {},
   "outputs": [
    {
     "ename": "NameError",
     "evalue": "name 'pu' is not defined",
     "output_type": "error",
     "traceback": [
      "\u001b[0;31m---------------------------------------------------------------------------\u001b[0m",
      "\u001b[0;31mNameError\u001b[0m                                 Traceback (most recent call last)",
      "Cell \u001b[0;32mIn[1], line 1\u001b[0m\n\u001b[0;32m----> 1\u001b[0m sm_run \u001b[38;5;241m=\u001b[39mpu\u001b[38;5;241m.\u001b[39mTBplot(\u001b[38;5;124m\"\u001b[39m\u001b[38;5;124m/home/etl/Test_Stand/tbanalysis/output_analysis_data/first_small/start_112817_stop_112838_setup_209_offset_10.0_energy_3.0_power_i1_module_209_bias_180_file_from_DESY_April_cubicLM_unbinned\u001b[39m\u001b[38;5;124m\"\u001b[39m,\n\u001b[1;32m      2\u001b[0m load_full_collection\u001b[38;5;241m=\u001b[39m\u001b[38;5;28;01mTrue\u001b[39;00m)\n",
      "\u001b[0;31mNameError\u001b[0m: name 'pu' is not defined"
     ]
    }
   ],
   "source": [
    "sm_run =pu.TBplot(\"/home/etl/Test_Stand/tbanalysis/output_analysis_data/first_small/start_112817_stop_112838_setup_209_offset_10.0_energy_3.0_power_i1_module_209_bias_180_file_from_DESY_April_cubicLM_unbinned\",\n",
    "load_full_collection=True)"
   ]
  }
 ],
 "metadata": {
  "kernelspec": {
   "display_name": "tbanalysis",
   "language": "python",
   "name": "python3"
  },
  "language_info": {
   "codemirror_mode": {
    "name": "ipython",
    "version": 3
   },
   "file_extension": ".py",
   "mimetype": "text/x-python",
   "name": "python",
   "nbconvert_exporter": "python",
   "pygments_lexer": "ipython3",
   "version": "3.12.3"
  }
 },
 "nbformat": 4,
 "nbformat_minor": 2
}
