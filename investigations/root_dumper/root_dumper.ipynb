{
 "cells": [
  {
   "cell_type": "code",
   "execution_count": 11,
   "metadata": {},
   "outputs": [],
   "source": [
    "import uproot\n",
    "import awkward as ak\n",
    "import sys\n",
    "sys.path.append(\"/home/etl/Test_Stand/ETL_TestingDAQ/\")\n",
    "\n",
    "from binary_decoders import lecroy\n",
    "\n",
    "import matplotlib.pyplot as plt"
   ]
  },
  {
   "cell_type": "code",
   "execution_count": 83,
   "metadata": {},
   "outputs": [
    {
     "data": {
      "text/plain": [
       "<matplotlib.collections.PathCollection at 0x7f734fd49400>"
      ]
     },
     "execution_count": 83,
     "metadata": {},
     "output_type": "execute_result"
    },
    {
     "data": {
      "image/png": "[encoded data removed]",
      "text/plain": [
       "<Figure size 640x480 with 1 Axes>"
      ]
     },
     "metadata": {},
     "output_type": "display_data"
    }
   ],
   "source": [
    "import importlib\n",
    "\n",
    "importlib.reload(lecroy)\n",
    "\n",
    "C1 = lecroy.ScopeData(\"/home/etl/Test_Stand/ETL_TestingDAQ/unit_test/input_data/run_5100/C1--Trace5100.trc\")\n",
    "C2 = lecroy.ScopeData(\"/home/etl/Test_Stand/ETL_TestingDAQ/unit_test/input_data/run_5100/C2--Trace5100.trc\") # TRIGGER\n",
    "C3 = lecroy.ScopeData(\"/home/etl/Test_Stand/ETL_TestingDAQ/unit_test/input_data/run_5100/C3--Trace5100.trc\") # CLOCK\n",
    "C4 = lecroy.ScopeData(\"/home/etl/Test_Stand/ETL_TestingDAQ/unit_test/input_data/run_5100/C4--Trace5100.trc\")\n",
    "\n",
    "C = C2\n",
    "points_per_frame = int(C.waveArrayCount / C.sequenceSegments)\n",
    "x = C.x.reshape(-1, points_per_frame)\n",
    "y = C.y.reshape(-1, points_per_frame)\n",
    "\n",
    "plt.scatter(x[0], y[0])"
   ]
  },
  {
   "cell_type": "code",
   "execution_count": 55,
   "metadata": {},
   "outputs": [],
   "source": [
    "import awkward as ak\n",
    "\n",
    "\n",
    "t = C.x.reshape(-1, points_per_frame)\n",
    "v = C.y.reshape(-1, points_per_frame)\n",
    "\n",
    "\n",
    "\n",
    "array = ak.Array({\n",
    "    'i_evt': [i for i in range(len(t))],\n",
    "    'seconds': t,\n",
    "    'volts': v \n",
    "})\n",
    "\n",
    "output_path = \"/home/etl/Test_Stand/tbanalysis/investigations/root_dumper/test.root\"\n",
    "with uproot.recreate(output_path) as file:\n",
    "    file[\"pulse\"] = array\n"
   ]
  },
  {
   "cell_type": "code",
   "execution_count": 61,
   "metadata": {},
   "outputs": [
    {
     "name": "stdout",
     "output_type": "stream",
     "text": [
      "80000\n",
      "5000 * {\n",
      "    i_evt: uint32,\n",
      "    segment_time: float32,\n",
      "    channel: 4 * 502 * float32,\n",
      "    time: 1 * 502 * float32,\n",
      "    timeoffsets: 8 * float32\n",
      "}\n",
      "None\n",
      "[0, 0.00131, 0.00184, 0.00288, 0.0034, 0.00393, ..., 14, 14, 14, 14, 14, 14]\n",
      "[0, 1, 2, 3, 4, 5, 6, 7, 8, ..., 4992, 4993, 4994, 4995, 4996, 4997, 4998, 4999]\n",
      "5000 * {\n",
      "    i_evt: int64,\n",
      "    seconds: 502 * float64,\n",
      "    volts: 502 * float32\n",
      "}\n",
      "None\n"
     ]
    }
   ],
   "source": [
    "old = uproot.open(\n",
    "    \"converted_run5100.root\"\n",
    ")[\"pulse\"].arrays()\n",
    "\n",
    "new = uproot.open(\"test.root\")[\"pulse\"].arrays()\n",
    "\n",
    "print(new.i_evt)\n",
    "print(new.type.show())"
   ]
  },
  {
   "cell_type": "code",
   "execution_count": 88,
   "metadata": {},
   "outputs": [
    {
     "name": "stdout",
     "output_type": "stream",
     "text": [
      "[2.e-12 2.e-12 2.e-12 ... 2.e-12 2.e-12 2.e-12]\n",
      "[[0, 1.4e-11, 1.6e-11, 2.5e-11, 0, 0, 0, 0], ..., [0, 1.4e-11, ..., 0, 0]]\n"
     ]
    }
   ],
   "source": [
    "# segment_time2, horizontal_offset2 = C2.get_segment_times_from_data()\n",
    "# segment_time3, horizontal_offset3 = C3.get_segment_times_from_data()\n",
    "\n",
    "# time_offset = horizontal_offset3 - horizontal_offset2\n",
    "# print(time_offset)\n",
    "\n",
    "trig_times2, horz_offsets2 = C2.get_segment_times()\n",
    "trig_times3, horz_offsets3 = C3.get_segment_times()\n",
    "\n",
    "import numpy as np\n",
    "a = np.array(horz_offsets3) - np.array(horz_offsets2)\n",
    "print(a)\n",
    "\n",
    "print(old.timeoffsets)"
   ]
  }
 ],
 "metadata": {
  "kernelspec": {
   "display_name": "tbanalysis",
   "language": "python",
   "name": "python3"
  },
  "language_info": {
   "codemirror_mode": {
    "name": "ipython",
    "version": 3
   },
   "file_extension": ".py",
   "mimetype": "text/x-python",
   "name": "python",
   "nbconvert_exporter": "python",
   "pygments_lexer": "ipython3",
   "version": "3.12.3"
  }
 },
 "nbformat": 4,
 "nbformat_minor": 2
}
