{
 "cells": [
  {
   "cell_type": "code",
   "execution_count": 40,
   "metadata": {},
   "outputs": [],
   "source": [
    "import numpy as np\n",
    "import awkward as ak\n",
    "import uproot\n",
    "import matplotlib.pyplot as plt\n",
    "import mplhep as hep\n",
    "from scipy.optimize import curve_fit\n",
    "from scipy.stats import norm, stats\n",
    "\n",
    "import sys\n",
    "sys.path.append('/home/users/hswanson13/tbanalysis/') #stupid pytho\n",
    "import run_analysis as ra\n",
    "from os import path\n",
    "from datetime import datetime\n",
    "import utils.analysis as au\n",
    "from os import path\n",
    "import uproot\n",
    "import yahist\n",
    "\n",
    "import utils.plotting as pu"
   ]
  },
  {
   "cell_type": "code",
   "execution_count": 41,
   "metadata": {},
   "outputs": [],
   "source": [
    "base_path = \"/home/users/hswanson13/tbanalysis/output_analysis_data/test_output6_parquet\"\n",
    "output_dir = \"start_5050_stop_5199_bias_260_offset_20.0_energy_5.0_power_i1_file_from_DESY_module_36_LP2_20_cubicLM_unbinned/\"\n",
    "#output_dir = \"start_4600_stop_4899_bias_270_offset_15.0_energy_5.0_power_i1_file_from_DESY_module_36_LP2_20_cubicLM_unbinned\"\n",
    "\n",
    "# dataColl = ak.from_parquet(\n",
    "#     path.join(base_path, output_dir, \"fullCollection.parquet\"\n",
    "#     )\n",
    "# )\n",
    "dataPresel = ak.from_parquet(\n",
    "    path.join(base_path, output_dir, \"fullPresel.parquet\"\n",
    "    )\n",
    ")"
   ]
  },
  {
   "cell_type": "code",
   "execution_count": null,
   "metadata": {},
   "outputs": [],
   "source": [
    "from scipy.optimize import curve_fit\n",
    "def gaus(x, *p0):\n",
    "    N, mu, sigma = p0\n",
    "    return N*np.exp(-(x-mu)**2/(2.0*sigma**2))\n",
    "\n",
    "def plot_gauss_fit(ax, hist_counts, bin_centers, p0, color='red', lw=2):\n",
    "    # Do a simple gaussian fit\n",
    "    try:\n",
    "        coeff, var_martix = curve_fit(gaus, bin_centers, hist_counts, p0=p0)\n",
    "    except RuntimeError:\n",
    "        coeff = p0\n",
    "    ax.plot(\n",
    "        bin_centers,\n",
    "        gaus(bin_centers, *coeff),\n",
    "        color=color,\n",
    "        label='Gaussian Fit\\n mean: {:.2f} \\n sigma: {:.3f}'.format(coeff[1],abs(coeff[2])),\n",
    "        linewidth=lw\n",
    "    )\n",
    "\n",
    "row, col = 9, 8\n",
    "\n",
    "pix_sel = ((dataPresel.row==row) & (dataPresel.col==col))\n",
    "#print(dataPresel['dt'][pix_sel])\n",
    "\n",
    "fig = plt.figure(constrained_layout=True,  figsize=(14, 6))\n",
    "ax = plt.subplot(1,1,1)\n",
    "\n",
    "dt_hist = yahist.Hist1D(ak.flatten(dataPresel['dt_corr'][pix_sel]))\n",
    "dt_hist.plot(ax, color='orange', label=\"dt\")#label=f\"dt Row={row}, Col={col}\")\n",
    "plot_gauss_fit(ax, dt_hist.counts, dt_hist.bin_centers, [np.max(dt_hist.counts),0, 0.1], lw=2)\n",
    "\n",
    "ax.legend(loc=1, prop={'size': 18}, frameon=True,fancybox=True)\n",
    "\n",
    "ax.set_ylabel(\"counts\")\n",
    "ax.set_xlabel(\"t (ns)\")\n",
    "ax.set_title(\"dt\")\n",
    "\n"
   ]
  },
  {
   "cell_type": "code",
   "execution_count": null,
   "metadata": {},
   "outputs": [],
   "source": [
    "# import importlib\n",
    "# importlib.reload(pu)\n",
    "\n",
    "dt_corr_hist = pu.get_data(path.join(base_path, output_dir, 'dt_corrected_hist.pkl'))\n",
    "\n",
    "fig = pu.plot_corrected_dt_per_pixel(dt_corr_hist, 9,7)\n",
    "\n"
   ]
  }
 ],
 "metadata": {
  "kernelspec": {
   "display_name": "tbanalysis",
   "language": "python",
   "name": "python3"
  },
  "language_info": {
   "codemirror_mode": {
    "name": "ipython",
    "version": 3
   },
   "file_extension": ".py",
   "mimetype": "text/x-python",
   "name": "python",
   "nbconvert_exporter": "python",
   "pygments_lexer": "ipython3",
   "version": "3.12.3"
  }
 },
 "nbformat": 4,
 "nbformat_minor": 2
}
